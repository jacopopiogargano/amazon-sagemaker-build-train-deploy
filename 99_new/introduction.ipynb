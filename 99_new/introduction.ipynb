{
 "cells": [
  {
   "cell_type": "markdown",
   "metadata": {},
   "source": [
    "# Fraud Detection on Amazon SageMaker\n",
    "\n",
    "Consider a scenario in which customers make transactions over time on terminals spread out in space.\\\n",
    "Our aim is to build a system which detects whether or not a transaction is fraudulent.\n",
    "\n",
    "### Entities\n",
    "\n",
    "__Customers__\n",
    "- geo coordinates\n",
    "- spending behavior\n",
    "- available terminals (we assume customers only make transactions on terminals that are within a radius of _RADIUS_ of their geo)\n",
    "\n",
    "__Terminals__\n",
    "- geo coordinates\n",
    "\n",
    "__Transactions__\n",
    "- date\n",
    "- customer\n",
    "- terminal\n",
    "- amount\n",
    "- label: legitimate (0) or fraudulent (1)\n",
    "\n",
    "#### Notes\n",
    "\n",
    "The simulated datasets will highlight most of the issues that practitioners of fraud detection face using real-world data. In particular, they will include __class imbalance__ (less than 1% of fraudulent transactions), a mix of __numerical and categorical features__, non-trivial __relationships between features__, and __time-dependent__ fraud scenarios."
   ]
  },
  {
   "cell_type": "code",
   "execution_count": null,
   "metadata": {},
   "outputs": [],
   "source": [
    "!pip install pandas --upgrade\n",
    "from functions import *"
   ]
  },
  {
   "cell_type": "markdown",
   "metadata": {},
   "source": [
    "### Customers generation"
   ]
  },
  {
   "cell_type": "code",
   "execution_count": null,
   "metadata": {},
   "outputs": [],
   "source": [
    "customers_df = generate_customers(5000)\n",
    "customers_df"
   ]
  },
  {
   "cell_type": "markdown",
   "metadata": {},
   "source": [
    "### Terminals generation"
   ]
  },
  {
   "cell_type": "code",
   "execution_count": null,
   "metadata": {},
   "outputs": [],
   "source": [
    "terminals_df = generate_terminals(10000)\n",
    "terminals_df"
   ]
  },
  {
   "cell_type": "markdown",
   "metadata": {},
   "source": [
    "Let's take a look at a customer and the terminals available to them"
   ]
  },
  {
   "cell_type": "code",
   "execution_count": null,
   "metadata": {},
   "outputs": [],
   "source": [
    "customer = customers_df.iloc[3]\n",
    "print(customer)\n",
    "RADIUS = 5\n",
    "plot_customer_terminals(customer.x_customer_id, customer.y_customer_id, terminals_df, radius=RADIUS)"
   ]
  },
  {
   "cell_type": "markdown",
   "metadata": {},
   "source": [
    "Let's associate terminals to customers"
   ]
  },
  {
   "cell_type": "code",
   "execution_count": null,
   "metadata": {},
   "outputs": [],
   "source": [
    "x_y_terminals = terminals_df[['x_terminal_id','y_terminal_id']].values.astype(float)\n",
    "customers_df['available_terminals'] = customers_df.apply(lambda x : get_list_terminals_within_radius(x, x_y_terminals=x_y_terminals, r=RADIUS), axis=1)\n",
    "customers_df['nb_terminals']=customers_df.available_terminals.apply(len)\n",
    "customers_df"
   ]
  },
  {
   "cell_type": "markdown",
   "metadata": {},
   "source": [
    "### Transactions generation"
   ]
  },
  {
   "cell_type": "markdown",
   "metadata": {},
   "source": [
    "Let's generate transactions for customers"
   ]
  },
  {
   "cell_type": "code",
   "execution_count": null,
   "metadata": {},
   "outputs": [],
   "source": [
    "NUMBER_OF_DAYS = 183\n",
    "transactions_df = customers_df.groupby('CUSTOMER_ID').apply(lambda x : generate_transactions(x.iloc[0], nb_days=NUMBER_OF_DAYS)).reset_index(drop=True)\n",
    "transactions_df"
   ]
  },
  {
   "cell_type": "markdown",
   "metadata": {},
   "source": [
    "Let's plot the generated transactions over time"
   ]
  },
  {
   "cell_type": "code",
   "execution_count": null,
   "metadata": {},
   "outputs": [],
   "source": [
    "plot_transactions_over_time(transactions_df)"
   ]
  },
  {
   "cell_type": "markdown",
   "metadata": {},
   "source": [
    "Let's add the fraudulent label to the transactions according to 3 scenarios:\n",
    "- __Scenario 1__: any transaction whose amount is more than 220. This will provide an obvious fraud pattern that should be detected always.\n",
    "- __Scenario 2__: every day, a list of two terminals is drawn at random. All transactions on these terminals in the next 28 days will be marked as fraudulent.\n",
    "- __Scenario 3__: every day, a list of 3 customers is drawn at random. In the next 14 days, 1/3 of their transactions have their amounts multiplied by 5 and marked as fraudulent.\n"
   ]
  },
  {
   "cell_type": "code",
   "execution_count": null,
   "metadata": {},
   "outputs": [],
   "source": [
    "transactions_df = add_frauds(customers_df, terminals_df, transactions_df)"
   ]
  },
  {
   "cell_type": "code",
   "execution_count": null,
   "metadata": {},
   "outputs": [],
   "source": [
    "plot_transactions_over_time(transactions_df)"
   ]
  },
  {
   "cell_type": "markdown",
   "metadata": {},
   "source": [
    "Let's plot some statistics of the transactions"
   ]
  },
  {
   "cell_type": "code",
   "execution_count": null,
   "metadata": {},
   "outputs": [],
   "source": [
    "plot_transactions_stats(transactions_df)"
   ]
  },
  {
   "cell_type": "markdown",
   "metadata": {},
   "source": [
    "Let's save the data we just generated to S3"
   ]
  },
  {
   "cell_type": "code",
   "execution_count": null,
   "metadata": {},
   "outputs": [],
   "source": [
    "S3_PATH = 's3://sagemaker-us-east-1-996912938507/endtoendmlsm/data/generated/'\n",
    "save_data(customers_df, terminals_df, transactions_df, S3_PATH)"
   ]
  },
  {
   "cell_type": "code",
   "execution_count": null,
   "metadata": {},
   "outputs": [],
   "source": []
  }
 ],
 "metadata": {
  "kernelspec": {
   "display_name": "Python 3 (Data Science)",
   "language": "python",
   "name": "python3__SAGEMAKER_INTERNAL__arn:aws:sagemaker:us-east-1:081325390199:image/datascience-1.0"
  },
  "language_info": {
   "codemirror_mode": {
    "name": "ipython",
    "version": 3
   },
   "file_extension": ".py",
   "mimetype": "text/x-python",
   "name": "python",
   "nbconvert_exporter": "python",
   "pygments_lexer": "ipython3",
   "version": "3.7.10"
  }
 },
 "nbformat": 4,
 "nbformat_minor": 4
}
